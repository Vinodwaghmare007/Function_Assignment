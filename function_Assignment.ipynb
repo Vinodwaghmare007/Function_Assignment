{
  "cells": [
    {
      "cell_type": "markdown",
      "metadata": {
        "id": "cPG3jVPgwRUU"
      },
      "source": [
        "# **Theory Questions**"
      ]
    },
    {
      "cell_type": "markdown",
      "metadata": {
        "id": "pdsZ3RaykDx4"
      },
      "source": [
        "#**Q. 1 What is the difference between a function and a method in Python?**\n",
        "\n",
        "\n",
        "- Okay, here's the difference between a function and a method in Python:\n",
        "\n",
        "- Function:\n",
        "\n",
        "  A function is a block of code that performs a specific task.\n",
        "It is defined using the def keyword.\n",
        "It can be called independently, without being associated with any object.\n",
        "\n",
        "**Example:**\n",
        "\n",
        "    def greet(name):\n",
        "        print(f\"Hello, {name}!\")\n",
        "\n",
        "    greet(\"World\")  # Calling the function\n",
        "\n",
        "Use code with caution\n",
        "Method:\n",
        "\n",
        "- A method is also a block of code that performs a specific task.\n",
        "However, it is associated with an object or a class.\n",
        "It is defined within a class.\n",
        "It is called using the dot notation on an object of the class.\n",
        "\n",
        "**Example:**\n",
        "\n",
        "\n",
        "    class Dog:\n",
        "      def bark(self):\n",
        "   \n",
        "    print(\"Woof!\")\n",
        "\n",
        "    my_dog = Dog()  # Creating an object of the class\n",
        "    my_dog.bark()   # Calling the method on the object\n",
        "Use code with caution\n",
        "- Key Differences:\n",
        "\n",
        "Feature\tFunction\tMethod\n",
        "Definition\tDefined using def\tDefined within a class\n",
        "Association\tNot associated with any object\tAssociated with an object or class\n",
        "Calling\tCalled independently\tCalled using dot notation on an object\n",
        "\n",
        "- In essence:\n",
        "\n",
        "Functions are standalone blocks of code.\n",
        "Methods are functions that belong to an object."
      ]
    },
    {
      "cell_type": "markdown",
      "metadata": {
        "id": "b0zzv1AaoMCZ"
      },
      "source": [
        "#**Q. 2 Explain the concept of function arguments and parameters in Python?**\n",
        "\n",
        "\n",
        "- The concepts of function arguments and parameters in Python:\n",
        "\n",
        "**- Parameters:**\n",
        "\n",
        "Definition: Parameters are the variables listed inside the parentheses in the function definition. They act as placeholders for the values that will be passed to the function when it's called.\n",
        "Purpose: They define what kind of information the function expects to receive.\n",
        "Example: In the function definition def greet(name):, name is a parameter.\n",
        "\n",
        "**Arguments:**\n",
        "\n",
        "Definition: Arguments are the actual values passed to a function when it's called.\n",
        "Purpose: They provide the specific data that the function will work with.\n",
        "Example: In the function call greet(\"Alice\"), \"Alice\" is the argument.\n",
        "\n",
        "**Analogy:**\n",
        "\n",
        "Think of a function as a recipe. The parameters are the ingredients listed in the recipe (e.g., flour, sugar). The arguments are the actual amounts of those ingredients you use when you bake (e.g., 2 cups of flour, 1 cup of sugar).\n",
        "\n",
        "**Types of Arguments:**\n",
        "\n",
        "Positional Arguments: These are passed to the function in the same order as the parameters are defined. For example, in greet(\"Alice\"), \"Alice\" is a positional argument that corresponds to the name parameter.\n",
        "Keyword Arguments: These are passed using the parameter name, like greet(name=\"Alice\"). This allows you to pass arguments in any order.\n",
        "Default Arguments: These are specified in the function definition, providing a default value if an argument is not passed. For example, in def greet(name=\"World\"):, \"World\" is the default argument for name.\n",
        "\n",
        "**In short:**\n",
        "\n",
        "Parameters are placeholders in the function definition.\n",
        "Arguments are the actual values supplied when calling the function."
      ]
    },
    {
      "cell_type": "markdown",
      "metadata": {
        "id": "LaNX-ijwxHFY"
      },
      "source": [
        "#**Q. 3  What are the different ways to define and call a function in Python?**\n",
        "\n",
        "- Here are the ways to define and call a function in Python:\n",
        "**Defining a function:**\n",
        "\n",
        " Use the def keyword, name the function, add optional parameters in parentheses, write the code, and optionally return a value. For example, to define a function that prints \"Hello from a function\",\n",
        "\n",
        "- **code:**\n",
        "\n",
        "\n",
        "      def my_function():\n",
        "        print(\"Hello from a function\")\n",
        "\n",
        "- **Calling a function:**\n",
        "\n",
        "- Use the function name followed by parentheses. For example, to call the function my_function.\n",
        "\n",
        "**Code**\n",
        "\n",
        "      my_function()\n",
        "\n",
        "- **Passing arguments**\n",
        "\n",
        "You can pass arguments into functions by specifying them after the function name, inside the parentheses. You can add as many arguments as you want, just separate them with a comma.\n",
        "\n",
        "- **Docstring:**\n",
        "\n",
        "The first string after the function is called the Document string or Docstring in short. This is used to describe the functionality of the function.\n",
        "\n",
        "- **Recursion:**\n",
        "\n",
        "A function that calls itself is called a recursive function. Recursion can be a powerful tool for solving complex problems.\n",
        "\n",
        "- **Nested functions:**\n",
        "\n",
        "Functions that are defined inside other functions are called nested functions. Nested functions have many uses, primarily for creating closures and decorators."
      ]
    },
    {
      "cell_type": "markdown",
      "metadata": {
        "id": "3D-X5hE5zGkv"
      },
      "source": [
        "#**Q.4 What is the purpose of the `return` statement in a Python function?**\n",
        "\n",
        "\n",
        "--The purpose of the return statement in a Python function is to:\n",
        "\n",
        "- **End a function:**\n",
        "\n",
        " The return statement marks the end of a function's execution\n",
        "\n",
        "- **Return a value:**\n",
        "\n",
        " The return statement specifies the value or values to pass back from the function\n",
        "- **Return control to the caller:**\n",
        "\n",
        " The return statement returns control to the calling function\n",
        "\n",
        "-- Here are some more details about the return\n",
        "\n",
        "- **statement in Python:**\n",
        "\n",
        "The return statement can return data of any type, including integers, floats, strings, lists, dictionaries, and even other functions.\n",
        "- A function can have multiple return statements, but only one will be executed depending on the condition.\n",
        "- The return statement can't be used outside of a function. If it is, it will throw an error.\n",
        "Statements after the return line will not be executed."
      ]
    },
    {
      "cell_type": "markdown",
      "metadata": {
        "id": "tsgxBWOd0c_K"
      },
      "source": [
        "#**Q. 5  What are iterators in Python and how do they differ from iterables?**\n",
        "\n",
        "- **Iteration:**\n",
        "\n",
        " is a process of using a loop to access all the elements of a sequence. Most of the time, we use for loop to iterate over a sequence. But there are some times when we need to iterate over a sequence using a different approach. In those cases, we need\n",
        "\n",
        " - to use an iterator.\n",
        "\n",
        "In Python, both the terms iterators and iterables are sometimes used interchangeably but they have different meanings.\n",
        "\n",
        "- We can say that an iterable is an object which can be iterated upon, and an iterator is an object which keeps a state and produces the next value each time it is iterated upon.\n",
        "\n",
        "- Every iterator is an iterable, but not every iterable is an iterator.\n",
        "\n",
        "- Let's see the difference between iterators and iterables in Python.\n",
        "\n",
        "- **Iterable in Python:**\n",
        "\n",
        "\n",
        "Iterable is a sequence that can be iterated over, i.e., you can use a for loop to iterate over the elements in the sequence:\n",
        "\n",
        "    for value in [\"a\", \"b\", \"c\"]:\n",
        "    print(value)\n",
        "\n",
        "- **Examples are:**\n",
        "\n",
        "Lists\n",
        "\n",
        "Tuples\n",
        "\n",
        "Strings\n",
        "\n",
        "Dictionaries\n",
        "\n",
        "Sets\n",
        "\n",
        "Generators\n",
        "\n",
        "\n",
        "- Iterable objects are also known as iterable containers.\n",
        "\n",
        "- We can create an iterator object from an iterable by using the iter() function since the iter() function returns an iterator from an iterable object. More about this later. But when using iterables, it is usually not necessary to call iter() or deal with the iterator objects yourself. The for statement does that automatically, creating a temporary unnamed variable to hold the iterator for the duration of the loop (Python docs).\n",
        "\n",
        "- **Let’s see an example:**\n",
        "\n",
        "      colors = ['Black', 'Purple', 'Green']\n",
        "      for color in colors:\n",
        "        print(color)\n",
        "    Output:\n",
        "\n",
        "  Black\n",
        "\n",
        "  Purple\n",
        "\n",
        "  Green\n",
        "\n",
        "- **Iterator in Python:**\n",
        "\n",
        "An iterator is an object which must implement the iterator protocol consisting of the two methods __iter__() and __next__() (see Iterator Types).\n",
        "\n",
        "- An iterator contains a countable number of values and can return the next element in the sequence, one element at a time.\n",
        "\n",
        "- Implementing __iter__() is required to allow both containers and iterators to be used with the for and in statements.\n",
        "\n",
        "- Implementing __next__() specifies how to return the next item from the iterator. If there are no further items, a StopIteration exception should be raised.\n",
        "\n",
        "- After implementing __iter()__ and __next__(), we can also explicitly call iter() and next():\n",
        "\n",
        "- **1) iter():**\n",
        "\n",
        "The iter() function returns an iterator object. It takes any collection object as an argument and returns an iterator object. We can use the iter() function to convert an iterable into an iterator.\n",
        "\n",
        "- Let’s see how to use the iter() function:\n",
        "\n",
        "- iterator = iter(object)\n",
        "Example:\n",
        "\n",
        "      colors = ['Black', 'Purple', 'Green']\n",
        "      iterator = iter(colors)\n",
        "          print(iterator)\n",
        "Output:\n",
        "\n",
        "      <list_iterator object at 0x7f8b8b8b9c18>\n",
        "An iterator can also be converted back to a concrete type:\n",
        "\n",
        "      colors = list(iterator)\n",
        "        print(colors)\n",
        "Output:\n",
        "\n",
        "      ['Black', 'Purple', 'Green']\n",
        "\n",
        "- **2) next():**\n",
        "\n",
        "The next() function is used to get the next item from the iterator. If there are no further items, it raises a StopIteration exception. The __next__() method is called automatically when the for statement tries to get the next item from the iterator.\n",
        "\n",
        "- Let’s see how to use the next() function:\n",
        "\n",
        "      colors = ['Black', 'Purple', 'Green']\n",
        "      iterator = iter(colors)\n",
        "        print(next(iterator))  # Output: Black\n",
        "        print(next(iterator))  # Output: Purple\n",
        "        print(next(iterator))  # Output: Green\n",
        "        print(next(iterator))                    \n",
        "\n",
        " Output:\n",
        "\n",
        " Traceback (most recent call last):\n",
        "\n",
        "       File \"iterator-and-iterable-in-python.py\", line\n",
        "       31, in <module>\n",
        "           print(next(iterator))\n",
        "\n",
        " StopIteration\n",
        "\n",
        "- **Why not every iterable is an iterator:**\n",
        "\n",
        "Earlier we said every iterator is an iterable, but not every iterable is an iterator. This is for example because we cannot use next() with every iterable, so it does not follow the iterator\n",
        "\n",
        "- protocol:\n",
        "\n",
        "        a = [1, 2, 3]\n",
        "          next(a)\n",
        "\n",
        "- Traceback (most recent call last):\n",
        "  File \"<stdin>\", line 1, in <module>\n",
        " TypeError: 'list' object is not an iterator\n",
        "  On the other hand, for every iterator we can call next(), and we can also loop over it with a for and in statement.\n",
        "\n",
        "- **Conclusion:**\n",
        "In this tutorial, we have learned about iterators and iterables in Python. We have also learned how to use iter() and next() functions."
      ]
    },
    {
      "cell_type": "markdown",
      "metadata": {
        "id": "876hOuB99oFz"
      },
      "source": [
        "#**Q. 6 Explain the concept of generators in Python and how they are defined?**\n",
        "\n",
        "- **The concept of generators in Python:**\n",
        "\n",
        "- **What are Generators?**\n",
        "\n",
        "Generators are special functions that produce a sequence of values one at a time, instead of generating them all at once and storing them in memory. This makes them memory-efficient, especially when dealing with large datasets.\n",
        "They are essentially iterators, meaning you can use them in loops.\n",
        "\n",
        "- **Defining Generators:**\n",
        "\n",
        "Using yield keyword:\n",
        "\n",
        "Replace return with yield in a function to create a generator. yield pauses the function's execution and returns a value, remembering its state for the next iteration.\n",
        "\n",
        "      def my_generator(n):\n",
        "         for i in range(n):\n",
        "            yield i  # Yields each value in the range\n",
        "\n",
        "\n",
        "\n",
        "- **Using generator expressions:**\n",
        "\n",
        " Similar to list comprehensions but with parentheses instead of square brackets. They offer a concise way to create generators.\n",
        "\n",
        "    my_generator = (i for i in range(5))\n",
        "\n",
        "- **How they work:**\n",
        "\n",
        "When you call a generator function, it doesn't execute immediately. Instead, it returns a generator object.\n",
        "When you iterate (e.g., using a for loop or next()), the generator executes code until it encounters yield, producing a value.\n",
        "It then suspends execution, preserving its state.\n",
        "On the next iteration, it resumes from where it left off.\n",
        "\n",
        "- **Benefits:**\n",
        "\n",
        "Memory efficiency: Generators produce values on demand, avoiding storing entire sequences.\n",
        "Lazy evaluation: Values are generated only when needed, optimizing performance.\n",
        "Infinite sequences: Generators can represent infinite sequences without memory issues.\n",
        "\n",
        "Example:\n",
        "\n",
        "\n",
        "      def countdown(n):\n",
        "         while n > 0:\n",
        "           yield n\n",
        "           n -= 1\n",
        "\n",
        "      for i in countdown(5):\n",
        "      print(i)  # Prints 5, 4, 3, 2, 1"
      ]
    },
    {
      "cell_type": "markdown",
      "metadata": {
        "id": "G1xKakzrBPwP"
      },
      "source": [
        "#**Q. 7 What are the advantages of using generators over regular functions?\n",
        "\n",
        "-- Generators have several advantages over regular - functions, including:\n",
        "- **Memory efficiency**\n",
        "Generators are more memory efficient than regular functions because they only generate values as they are needed, rather than generating and storing all elements upfront. This is especially useful when working with large datasets or infinite sequences.\n",
        "\n",
        "- **Improved performance**\n",
        "\n",
        "Generators can improve performance by avoiding the need to generate and store all elements upfront. They can also be faster than regular loops, especially when working with large data sets.\n",
        "- **Lazy loading**\n",
        "\n",
        "Generators can be used to lazy load data, which means that the data is not loaded until it is actually needed. This can improve performance and reduce bandwidth usage.\n",
        "- **Composability**\n",
        "\n",
        "Generators can be easily composed to create new generators, enabling powerful data processing pipelines.\n",
        "- **Infinite sequences**\n",
        "\n",
        "Generators make it easy to create infinite sequences by allowing pausing and resuming. This is ideal for real-time data processing where data is constantly arriving.\n",
        "\n",
        "- **Readability**\n",
        "\n",
        "Generators can make your code easier to read and understand by breaking up the iteration process into smaller chunks."
      ]
    },
    {
      "cell_type": "markdown",
      "metadata": {
        "id": "j-LRizYAD-8Q"
      },
      "source": [
        "#**Q. 8 What is a lambda function in Python and when is it typically used?\n",
        "\n",
        "- A lambda function in Python is a small, anonymous function that's defined using the lambda keyword. Lambda functions are often used for short, simple operations, such as basic data transformations or simple mathematical calculations. They're particularly useful in functional programming contexts, where they're often passed as arguments to higher-order functions like map, filter, and reduce.\n",
        "\n",
        "- Here are some advantages of using lambda functions:\n",
        "\n",
        "- **Conciseness and readability**\n",
        "\n",
        "Lambda functions can make code more concise and readable, especially when the logic is simple.\n",
        "- **Functional programming capabilities**\n",
        "\n",
        "Lambda functions align well with functional programming principles, allowing for the use of higher-order functions and the application of functions as first-class objects.\n",
        "- **Ideal for inline use**\n",
        "\n",
        "Lambda functions are ideal for inline use, such as arguments to higher-order functions.\n"
      ]
    },
    {
      "cell_type": "markdown",
      "metadata": {
        "id": "bVJn4XExEnjm"
      },
      "source": [
        "#**Q. 9 Explain the purpose and usage of the `map()` function in Python.\n",
        "\n",
        "- The map() function in Python applies a function to each item in an iterable, such as a list, tuple, or dictionary, and returns a new iterable with the updated values. It's a built-in function that can be used to simplify iterative operations.\n",
        "- Here are some examples of how to use the map()\n",
        "\n",
        "- **function:**\n",
        "\n",
        "Applying a function to a list\n",
        "To apply the function lambda x: x**2 to the list numbers = [1, 2, 3, 4], you can use the code squares = map(lambda x: x**2, numbers).\n",
        "- **Changing strings to uppercase if they begin with a vowel**\n",
        "\n",
        "The uppercase_if_vowel() method changes strings to uppercase if they begin with a vowel. The map() function can apply this logic to each string in a list.\n",
        "- **Removing leading and trailing whitespaces from each string in a list**\n",
        "\n",
        "The str.strip method removes leading and trailing whitespaces from each string in a list. The map() function can apply str.strip to each element in a list.\n",
        "- **Accepting multiple inputs in a single line**\n",
        "\n",
        "You can use the split and map functions to accept multiple integers in a single line. For example, a, b, c = map(int, input().split()) assigns integer input values to variables a, b, and c.\n",
        "\n",
        "The map() function can be a more concise and efficient alternative to using a for loop to iterate through a list and apply a function to each item."
      ]
    },
    {
      "cell_type": "markdown",
      "metadata": {
        "id": "owf0Bg46GB9m"
      },
      "source": [
        "#**Q. 10 What is the difference between `map()`, `reduce()`, and `filter()` functions in Python?\n",
        "\n",
        "-  The differences between map(), reduce(), and filter() in Python:\n",
        "\n",
        "**1. map()**\n",
        "\n",
        "**Purpose:** Applies a function to each item in an iterable (like a list) and returns an iterator with the results.\n",
        "Syntax: map(function, iterable)\n",
        "\n",
        "**Example:**\n",
        "\n",
        "      numbers = [1, 2, 3, 4]\n",
        "      squared_numbers = map(lambda x: x**2, numbers)\n",
        "      # squared_numbers is now an iterator containing [1, 4, 9, 16]\n",
        "      # To see the output, run the code.\n",
        "\n",
        "**2. filter()**\n",
        "\n",
        "Purpose: Filters an iterable by applying a function that returns True or False for each item, keeping only the items for which the function returns True.\n",
        "Syntax: filter(function, iterable)\n",
        "\n",
        "**Example:**\n",
        "\n",
        "      numbers = [1, 2, 3, 4, 5]\n",
        "      even_numbers = filter(lambda x: x % 2 == 0, numbers)\n",
        "      # even_numbers is now an iterator containing [2, 4]\n",
        "      # To see the output, run the code.\n",
        "\n",
        "**3. reduce()**\n",
        "\n",
        "Purpose: Applies a function cumulatively to the items of an iterable, reducing them to a single value.\n",
        "Syntax: reduce(function, iterable[, initial]) (from functools module)\n",
        "\n",
        "**Example:**\n",
        "\n",
        "    from functools import reduce\n",
        "    numbers = [1, 2, 3, 4]\n",
        "    product = reduce(lambda x, y: x * y, numbers)\n",
        "    # product is now 24 (1 * 2 * 3 * 4)\n",
        "    # To see the output, run the code.\n",
        "\n",
        "\n",
        "**In essence:**\n",
        "\n",
        "map() transforms each item.\n",
        "filter() selects items.\n",
        "reduce() aggregates items.\n",
        "I hope this clarifies the differences!"
      ]
    },
    {
      "cell_type": "markdown",
      "metadata": {
        "id": "J8QruzmGGMgs"
      },
      "source": [
        "#**Q. 11  Using pen & Paper write the internal mechanism for sum operation using  reduce function on this given\n",
        "list:[47,11,42,13];\n"
      ]
    },
    {
      "cell_type": "code",
      "execution_count": null,
      "metadata": {
        "colab": {
          "base_uri": "https://localhost:8080/",
          "height": 91
        },
        "id": "XW3i8oLo2rB-",
        "outputId": "3e4df674-b946-4417-b35c-91077e754267"
      },
      "outputs": [
        {
          "data": {
            "text/html": [
              "\n",
              "     <input type=\"file\" id=\"files-bddd4f60-17a9-4cca-9304-21437829199a\" name=\"files[]\" multiple disabled\n",
              "        style=\"border:none\" />\n",
              "     <output id=\"result-bddd4f60-17a9-4cca-9304-21437829199a\">\n",
              "      Upload widget is only available when the cell has been executed in the\n",
              "      current browser session. Please rerun this cell to enable.\n",
              "      </output>\n",
              "      <script>// Copyright 2017 Google LLC\n",
              "//\n",
              "// Licensed under the Apache License, Version 2.0 (the \"License\");\n",
              "// you may not use this file except in compliance with the License.\n",
              "// You may obtain a copy of the License at\n",
              "//\n",
              "//      http://www.apache.org/licenses/LICENSE-2.0\n",
              "//\n",
              "// Unless required by applicable law or agreed to in writing, software\n",
              "// distributed under the License is distributed on an \"AS IS\" BASIS,\n",
              "// WITHOUT WARRANTIES OR CONDITIONS OF ANY KIND, either express or implied.\n",
              "// See the License for the specific language governing permissions and\n",
              "// limitations under the License.\n",
              "\n",
              "/**\n",
              " * @fileoverview Helpers for google.colab Python module.\n",
              " */\n",
              "(function(scope) {\n",
              "function span(text, styleAttributes = {}) {\n",
              "  const element = document.createElement('span');\n",
              "  element.textContent = text;\n",
              "  for (const key of Object.keys(styleAttributes)) {\n",
              "    element.style[key] = styleAttributes[key];\n",
              "  }\n",
              "  return element;\n",
              "}\n",
              "\n",
              "// Max number of bytes which will be uploaded at a time.\n",
              "const MAX_PAYLOAD_SIZE = 100 * 1024;\n",
              "\n",
              "function _uploadFiles(inputId, outputId) {\n",
              "  const steps = uploadFilesStep(inputId, outputId);\n",
              "  const outputElement = document.getElementById(outputId);\n",
              "  // Cache steps on the outputElement to make it available for the next call\n",
              "  // to uploadFilesContinue from Python.\n",
              "  outputElement.steps = steps;\n",
              "\n",
              "  return _uploadFilesContinue(outputId);\n",
              "}\n",
              "\n",
              "// This is roughly an async generator (not supported in the browser yet),\n",
              "// where there are multiple asynchronous steps and the Python side is going\n",
              "// to poll for completion of each step.\n",
              "// This uses a Promise to block the python side on completion of each step,\n",
              "// then passes the result of the previous step as the input to the next step.\n",
              "function _uploadFilesContinue(outputId) {\n",
              "  const outputElement = document.getElementById(outputId);\n",
              "  const steps = outputElement.steps;\n",
              "\n",
              "  const next = steps.next(outputElement.lastPromiseValue);\n",
              "  return Promise.resolve(next.value.promise).then((value) => {\n",
              "    // Cache the last promise value to make it available to the next\n",
              "    // step of the generator.\n",
              "    outputElement.lastPromiseValue = value;\n",
              "    return next.value.response;\n",
              "  });\n",
              "}\n",
              "\n",
              "/**\n",
              " * Generator function which is called between each async step of the upload\n",
              " * process.\n",
              " * @param {string} inputId Element ID of the input file picker element.\n",
              " * @param {string} outputId Element ID of the output display.\n",
              " * @return {!Iterable<!Object>} Iterable of next steps.\n",
              " */\n",
              "function* uploadFilesStep(inputId, outputId) {\n",
              "  const inputElement = document.getElementById(inputId);\n",
              "  inputElement.disabled = false;\n",
              "\n",
              "  const outputElement = document.getElementById(outputId);\n",
              "  outputElement.innerHTML = '';\n",
              "\n",
              "  const pickedPromise = new Promise((resolve) => {\n",
              "    inputElement.addEventListener('change', (e) => {\n",
              "      resolve(e.target.files);\n",
              "    });\n",
              "  });\n",
              "\n",
              "  const cancel = document.createElement('button');\n",
              "  inputElement.parentElement.appendChild(cancel);\n",
              "  cancel.textContent = 'Cancel upload';\n",
              "  const cancelPromise = new Promise((resolve) => {\n",
              "    cancel.onclick = () => {\n",
              "      resolve(null);\n",
              "    };\n",
              "  });\n",
              "\n",
              "  // Wait for the user to pick the files.\n",
              "  const files = yield {\n",
              "    promise: Promise.race([pickedPromise, cancelPromise]),\n",
              "    response: {\n",
              "      action: 'starting',\n",
              "    }\n",
              "  };\n",
              "\n",
              "  cancel.remove();\n",
              "\n",
              "  // Disable the input element since further picks are not allowed.\n",
              "  inputElement.disabled = true;\n",
              "\n",
              "  if (!files) {\n",
              "    return {\n",
              "      response: {\n",
              "        action: 'complete',\n",
              "      }\n",
              "    };\n",
              "  }\n",
              "\n",
              "  for (const file of files) {\n",
              "    const li = document.createElement('li');\n",
              "    li.append(span(file.name, {fontWeight: 'bold'}));\n",
              "    li.append(span(\n",
              "        `(${file.type || 'n/a'}) - ${file.size} bytes, ` +\n",
              "        `last modified: ${\n",
              "            file.lastModifiedDate ? file.lastModifiedDate.toLocaleDateString() :\n",
              "                                    'n/a'} - `));\n",
              "    const percent = span('0% done');\n",
              "    li.appendChild(percent);\n",
              "\n",
              "    outputElement.appendChild(li);\n",
              "\n",
              "    const fileDataPromise = new Promise((resolve) => {\n",
              "      const reader = new FileReader();\n",
              "      reader.onload = (e) => {\n",
              "        resolve(e.target.result);\n",
              "      };\n",
              "      reader.readAsArrayBuffer(file);\n",
              "    });\n",
              "    // Wait for the data to be ready.\n",
              "    let fileData = yield {\n",
              "      promise: fileDataPromise,\n",
              "      response: {\n",
              "        action: 'continue',\n",
              "      }\n",
              "    };\n",
              "\n",
              "    // Use a chunked sending to avoid message size limits. See b/62115660.\n",
              "    let position = 0;\n",
              "    do {\n",
              "      const length = Math.min(fileData.byteLength - position, MAX_PAYLOAD_SIZE);\n",
              "      const chunk = new Uint8Array(fileData, position, length);\n",
              "      position += length;\n",
              "\n",
              "      const base64 = btoa(String.fromCharCode.apply(null, chunk));\n",
              "      yield {\n",
              "        response: {\n",
              "          action: 'append',\n",
              "          file: file.name,\n",
              "          data: base64,\n",
              "        },\n",
              "      };\n",
              "\n",
              "      let percentDone = fileData.byteLength === 0 ?\n",
              "          100 :\n",
              "          Math.round((position / fileData.byteLength) * 100);\n",
              "      percent.textContent = `${percentDone}% done`;\n",
              "\n",
              "    } while (position < fileData.byteLength);\n",
              "  }\n",
              "\n",
              "  // All done.\n",
              "  yield {\n",
              "    response: {\n",
              "      action: 'complete',\n",
              "    }\n",
              "  };\n",
              "}\n",
              "\n",
              "scope.google = scope.google || {};\n",
              "scope.google.colab = scope.google.colab || {};\n",
              "scope.google.colab._files = {\n",
              "  _uploadFiles,\n",
              "  _uploadFilesContinue,\n",
              "};\n",
              "})(self);\n",
              "</script> "
            ],
            "text/plain": [
              "<IPython.core.display.HTML object>"
            ]
          },
          "metadata": {},
          "output_type": "display_data"
        },
        {
          "name": "stdout",
          "output_type": "stream",
          "text": [
            "Saving Adobe Scan 22 Dec 2024.pdf to Adobe Scan 22 Dec 2024 (1).pdf\n"
          ]
        }
      ],
      "source": [
        "from google. colab import files\n",
        "uploaded = files.upload()"
      ]
    },
    {
      "cell_type": "markdown",
      "metadata": {
        "id": "fn8xoAo14Huu"
      },
      "source": [
        "# **Practical Questions**"
      ]
    },
    {
      "cell_type": "code",
      "execution_count": null,
      "metadata": {
        "colab": {
          "base_uri": "https://localhost:8080/"
        },
        "id": "HMdxyJcM4GqE",
        "outputId": "c3c70d2d-3ad1-41aa-f3d4-9e00cfbf1364"
      },
      "outputs": [
        {
          "name": "stdout",
          "output_type": "stream",
          "text": [
            "The sum of even numbers in the list is: 12\n"
          ]
        }
      ],
      "source": [
        "# Q. 1 1. Write a Python function that takes a list of numbers as input and returns the sum of all even numbers in\n",
        "#the list.\n",
        "\n",
        "def sum_of_even_numbers(numbers):\n",
        "  total = 0\n",
        "  for number in numbers:\n",
        "    if number % 2 == 0:  # Check if the number is even\n",
        "      total += number   # Add even number to the total\n",
        "  return total\n",
        "\"\"\"\n",
        "This function takes a list of numbers as input and returns the sum of all even numbers in the list.\n",
        "\n",
        "Args:\n",
        "numbers: A list of numbers.\n",
        "\n",
        "Returns:\n",
        "The sum of all even numbers in the list.\n",
        "\"\"\"\n",
        "  # Example usage\n",
        "numbers = [1, 2, 3, 4, 5, 6]\n",
        "even_sum = sum_of_even_numbers(numbers)\n",
        "print(f\"The sum of even numbers in the list is: {even_sum}\")  # Output: The sum of even numbers in the list is: 12\n"
      ]
    },
    {
      "cell_type": "code",
      "execution_count": null,
      "metadata": {
        "colab": {
          "base_uri": "https://localhost:8080/"
        },
        "id": "L7HohCdx5PPE",
        "outputId": "d66d27b4-e079-4a59-f323-ff3eac5d70b9"
      },
      "outputs": [
        {
          "name": "stdout",
          "output_type": "stream",
          "text": [
            "Reversed string: !dlrow ,olleH\n"
          ]
        }
      ],
      "source": [
        "# Q. 2 Create a Python function that accepts a string and returns the reverse of that string.\n",
        "def reverse_string(text):\n",
        "  return text[::-1]\n",
        "\"\"\"\n",
        "  This function takes a string as input and returns its reverse.\n",
        "\n",
        "  Args:\n",
        "    text: The string to be reversed.\n",
        "\n",
        "  Returns:\n",
        "    The reversed string.\n",
        "    \"\"\"\n",
        "# Example usage\n",
        "string = \"Hello, world!\"\n",
        "reversed_string = reverse_string(string)\n",
        "print(f\"Reversed string: {reversed_string}\")"
      ]
    },
    {
      "cell_type": "code",
      "execution_count": null,
      "metadata": {
        "colab": {
          "base_uri": "https://localhost:8080/"
        },
        "id": "XrMXwSRL_lo9",
        "outputId": "03fb0ae5-3d67-427e-bbdf-cf4e1e43d2c2"
      },
      "outputs": [
        {
          "name": "stdout",
          "output_type": "stream",
          "text": [
            "Squared numbers: [1, 4, 9, 16, 25]\n"
          ]
        }
      ],
      "source": [
        "# Q. 3 Implement a Python function that takes a list of integers and returns a new list containing the squares of\n",
        "#each number.\n",
        "\n",
        "def square_numbers(numbers):\n",
        "  squared_numbers = [number**2 for number in numbers]\n",
        "  return squared_numbers\n",
        "\"\"\"\n",
        "  This function takes a list of integers and returns a new list containing the squares of each number.\n",
        "\n",
        "  Args:\n",
        "    numbers: A list of integers.\n",
        "\n",
        "  Returns:\n",
        "    A new list containing the squares of each number in the input list.\n",
        "  \"\"\"\n",
        "# Example usage\n",
        "numbers = [1, 2, 3, 4, 5]\n",
        "squared_list = square_numbers(numbers)\n",
        "print(f\"Squared numbers: {squared_list}\")"
      ]
    },
    {
      "cell_type": "code",
      "execution_count": null,
      "metadata": {
        "colab": {
          "base_uri": "https://localhost:8080/"
        },
        "id": "yujXdJAH_5Ny",
        "outputId": "f31922e1-db13-47a7-9c71-50eb8211a9e9"
      },
      "outputs": [
        {
          "name": "stdout",
          "output_type": "stream",
          "text": [
            "Squared numbers: [1, 4, 9, 16, 25]\n"
          ]
        }
      ],
      "source": [
        "# Q. 4 Write a Python function that checks if a given number is prime or not from 1 to 200.\n",
        "\n",
        "def square_numbers(numbers):\n",
        "  squared_numbers = [number**2 for number in numbers]\n",
        "  return squared_numbers\n",
        "\"\"\"\n",
        "  This function takes a list of integers and returns a new list containing the squares of each number.\n",
        "\n",
        "  Args:\n",
        "    numbers: A list of integers.\n",
        "\n",
        "  Returns:\n",
        "    A new list containing the squares of each number in the input list.\n",
        "  \"\"\"\n",
        "# Example usage\n",
        "numbers = [1, 2, 3, 4, 5]\n",
        "squared_list = square_numbers(numbers)\n",
        "print(f\"Squared numbers: {squared_list}\")"
      ]
    },
    {
      "cell_type": "code",
      "execution_count": null,
      "metadata": {
        "colab": {
          "base_uri": "https://localhost:8080/"
        },
        "id": "-HBNbSuMANsQ",
        "outputId": "b0a98e79-3653-4e23-ab47-3773a8258df3"
      },
      "outputs": [
        {
          "name": "stdout",
          "output_type": "stream",
          "text": [
            "0\n",
            "1\n",
            "1\n",
            "2\n",
            "3\n",
            "5\n",
            "8\n",
            "13\n",
            "21\n",
            "34\n"
          ]
        }
      ],
      "source": [
        "# Q .5 Create an iterator class in Python that generates the Fibonacci sequence up to a specified number of terms.\n",
        "\n",
        "class FibonacciIterator:\n",
        "  def __init__(self, max_terms):\n",
        "    self.max_terms = max_terms\n",
        "    self.current_term = 0\n",
        "    self.a, self.b = 0, 1\n",
        "  \"\"\"\n",
        "  An iterator class that generates the Fibonacci sequence up to a specified number of terms.\n",
        "  \"\"\"\n",
        "  def __iter__(self):\n",
        "    # The __iter__ method should return an iterator object.\n",
        "    # In this case, we want the FibonacciIterator itself to be the iterator,\n",
        "    # so we return self.\n",
        "    return self\n",
        "\n",
        "  def __next__(self):\n",
        "    if self.current_term < self.max_terms:\n",
        "      result = self.a\n",
        "      self.a, self.b = self.b, self.a + self.b\n",
        "      self.current_term += 1\n",
        "      return result\n",
        "    else:\n",
        "      raise StopIteration\n",
        "# Example usage\n",
        "\n",
        "fibonacci_iterator = FibonacciIterator(10)  # Generate 10 terms\n",
        "for number in fibonacci_iterator:\n",
        "  print(number)"
      ]
    },
    {
      "cell_type": "code",
      "execution_count": null,
      "metadata": {
        "colab": {
          "base_uri": "https://localhost:8080/"
        },
        "id": "ZRrqVlr8Ald6",
        "outputId": "b5986f21-b12b-4888-9aed-b8e263351b8f"
      },
      "outputs": [
        {
          "name": "stdout",
          "output_type": "stream",
          "text": [
            "1\n",
            "2\n",
            "4\n",
            "8\n",
            "16\n",
            "32\n"
          ]
        }
      ],
      "source": [
        "# Q. 6  Write a generator function in Python that yields the powers of 2 up to a given exponent.\n",
        "\n",
        "def powers_of_2(exponent):\n",
        "  \"\"\"\n",
        "  Generates the powers of 2 up to a given exponent.\n",
        "\n",
        "  Args:\n",
        "    exponent: The maximum exponent.\n",
        "\n",
        "  Yields:\n",
        "    The next power of 2.\n",
        "  \"\"\"\n",
        "  for i in range(exponent + 1):  # Include the exponent itself\n",
        "    yield 2**i\n",
        " #Example Usage:\n",
        "for power in powers_of_2(5):  # Get powers up to 2^5\n",
        "  print(power)\n"
      ]
    },
    {
      "cell_type": "code",
      "execution_count": null,
      "metadata": {
        "colab": {
          "base_uri": "https://localhost:8080/"
        },
        "id": "rlySG8hRCZwD",
        "outputId": "eb38e8d2-63a8-41fa-a6cf-2828480847c8"
      },
      "outputs": [
        {
          "name": "stdout",
          "output_type": "stream",
          "text": [
            "This is line 1.\n",
            "This is line 2.\n"
          ]
        }
      ],
      "source": [
        "# Q 7  Implement a generator function that reads a file line by line and yields each line as a string.\n",
        "\n",
        "def read_file_line_by_line(file_path):\n",
        "   \"\"\"\n",
        "  Reads a file line by line and yields each line as a string.\n",
        "\n",
        "  Args:\n",
        "    file_path: The path to the file.\n",
        "\n",
        "  Yields:\n",
        "    Each line of the file as a string.\n",
        "  \"\"\"\n",
        "   try:\n",
        "       with open(file_path, 'r') as file: # Try to open the file.\n",
        "           for line in file:\n",
        "               yield line.rstrip('\\n')  # Remove newline characters\n",
        "   except FileNotFoundError:\n",
        "       print(f\"Error: File not found at path: {file_path}\")\n",
        "       # You might want to handle the error differently,\n",
        "       # like raising the exception again or returning an empty generator\n",
        "       return\n",
        "\n",
        "\n",
        " #Example Usage\n",
        "file_path = 'my_file.txt'  # Replace with the actual file path\n",
        "\n",
        "# Create a sample file (You'll want to replace this with your actual file):\n",
        "with open(file_path, \"w\") as f:\n",
        "    f.write(\"This is line 1.\\n\")\n",
        "    f.write(\"This is line 2.\\n\")\n",
        "\n",
        "for line in read_file_line_by_line(file_path):\n",
        "  print(line)"
      ]
    },
    {
      "cell_type": "code",
      "execution_count": null,
      "metadata": {
        "colab": {
          "base_uri": "https://localhost:8080/"
        },
        "id": "PLUNIVCoDMER",
        "outputId": "41f869ad-0843-45e3-c1ee-d136c28d6401"
      },
      "outputs": [
        {
          "name": "stdout",
          "output_type": "stream",
          "text": [
            "[(4, 1), (3, 2), (1, 5), (2, 8)]\n"
          ]
        }
      ],
      "source": [
        " # Q. 8 Use a lambda function in Python to sort a list of tuples based on the second element of each tuple.\n",
        "\n",
        " # Sample list of tuples\n",
        "my_list = [(1, 5), (3, 2), (2, 8), (4, 1)]\n",
        "\n",
        "# Sort the list based on the second element using a lambda function\n",
        "sorted_list = sorted(my_list, key=lambda item: item[1])\n",
        "\n",
        "# Print the sorted list\n",
        "print(sorted_list)"
      ]
    },
    {
      "cell_type": "code",
      "execution_count": null,
      "metadata": {
        "colab": {
          "base_uri": "https://localhost:8080/"
        },
        "id": "RzQhTGBwD6k5",
        "outputId": "f6678709-2bc0-4023-8880-18d0fe89cc5d"
      },
      "outputs": [
        {
          "name": "stdout",
          "output_type": "stream",
          "text": [
            "[32.0, 50.0, 68.0, 86.0, 104.0]\n"
          ]
        }
      ],
      "source": [
        "# Q. 9 Write a Python program that uses `map()` to convert a list of temperatures from Celsius to Fahrenheit\n",
        "\n",
        "def celsius_to_fahrenheit(celsius):\n",
        "    \"\"\"Converts a Celsius temperature to Fahrenheit.\"\"\"\n",
        "    return (9/5) * celsius + 32\n",
        "\n",
        "# List of Celsius temperatures\n",
        "celsius_temps = [0, 10, 20, 30, 40]\n",
        "\n",
        "# Use map() to convert Celsius to Fahrenheit\n",
        "fahrenheit_temps = list(map(celsius_to_fahrenheit, celsius_temps))\n",
        "\n",
        "# Print the results\n",
        "print(fahrenheit_temps)"
      ]
    },
    {
      "cell_type": "code",
      "execution_count": null,
      "metadata": {
        "colab": {
          "base_uri": "https://localhost:8080/"
        },
        "id": "S3vW6wcDEGrQ",
        "outputId": "fca06d3b-b1bd-4de2-9b0c-44c2dc680e3c"
      },
      "outputs": [
        {
          "name": "stdout",
          "output_type": "stream",
          "text": [
            "Hll, Wrld!\n"
          ]
        }
      ],
      "source": [
        "# Q. 10 Create a Python program that uses `filter()` to remove all the vowels from a given string.\n",
        "\n",
        "def remove_vowels(text):\n",
        "    vowels = \"aeiouAEIOU\"\n",
        "    filtered_chars = filter(lambda char: char not in vowels, text)\n",
        "    return \"\".join(filtered_chars)\n",
        "\n",
        "# Example usage\n",
        "my_string = \"Hello, World!\"\n",
        "result = remove_vowels(my_string)\n",
        "print(result)"
      ]
    },
    {
      "cell_type": "code",
      "execution_count": 46,
      "metadata": {
        "colab": {
          "base_uri": "https://localhost:8080/",
          "height": 54
        },
        "id": "AJEMqWwNETb6",
        "outputId": "3c313c52-5bda-4cd0-db6a-cfa2ca413790"
      },
      "outputs": [
        {
          "output_type": "execute_result",
          "data": {
            "text/plain": [
              "'\\noutput1 = map(lambda x: (x[0],x[2] * x[3]), orders) #Innermost lambda function execution\\n\\noutput2 = map(lambda x: x if x[1] >= min_order else (x[0], x[1] + 10),map(lambda x: (x[0],x[2] * x[3]), orders))\\n\\nfinal = list(map(lambda x: x if x[1] >= min_order else (x[0], x[1] + 10),map(lambda x: (x[0],x[2] * x[3]), orders)))\\n'"
            ],
            "application/vnd.google.colaboratory.intrinsic+json": {
              "type": "string"
            }
          },
          "metadata": {},
          "execution_count": 46
        }
      ],
      "source": [
        "# Q. 11 Imagine an accounting routine used in a book shop. It works on a list with sublists, which look like this:\n",
        "\"\"\"\n",
        "Order Number    Book Title and Author   Quantity    Price per Item\n",
        "34587   Learning Python, Mark Lutz  4   40.95\n",
        "98762   Programming Python, Mark Lutz   5   56.80\n",
        "77226   Head First Python, Paul Barry   3   32.95\n",
        "88112   Einführung in Python3, Bernd Klein  3   24.99\n",
        "\"\"\"\n",
        "\"\"\"\n",
        "Write a Python program, which returns a list with 2-tuples. Each tuple consists of a the order number and the product of the price per items and the quantity. The product should be increased by 10,- € if the value of the order is less than 100,00 €.\n",
        "Write a Python program using lambda and map.\n",
        "\"\"\"\n",
        "\n",
        "\n",
        "orders = [ [\"34587\", \"Learning Python, Mark Lutz\", 4, 40.95],[\"98762\", \"Programming Python, Mark Lutz\", 5, 56.80],[\"77226\", \"Head First Python, Paul Barry\", 3,32.95],[\"88112\", \"Einführung in Python3, Bernd Klein\",   3, 24.99]]\n",
        "\n",
        "# Define min_order here\n",
        "min_order = 100\n",
        "\n",
        "invoice_totals = list(map(lambda x: x if x[1] >= min_order else (x[0], x[1] + 10),map(lambda x: (x[0],x[2] * x[3]), orders)))\n",
        "\n",
        "#Note- To understand the working of above lambda function break the function till innermost map function. Break and understand in below fashion\n",
        "'''\n",
        "output1 = map(lambda x: (x[0],x[2] * x[3]), orders) #Innermost lambda function execution\n",
        "\n",
        "output2 = map(lambda x: x if x[1] >= min_order else (x[0], x[1] + 10),map(lambda x: (x[0],x[2] * x[3]), orders))\n",
        "\n",
        "final = list(map(lambda x: x if x[1] >= min_order else (x[0], x[1] + 10),map(lambda x: (x[0],x[2] * x[3]), orders)))\n",
        "'''"
      ]
    },
    {
      "cell_type": "code",
      "source": [],
      "metadata": {
        "id": "1qWIbQcQHveL"
      },
      "execution_count": null,
      "outputs": []
    }
  ],
  "metadata": {
    "colab": {
      "provenance": []
    },
    "kernelspec": {
      "display_name": "Python 3",
      "name": "python3"
    },
    "language_info": {
      "name": "python"
    }
  },
  "nbformat": 4,
  "nbformat_minor": 0
}